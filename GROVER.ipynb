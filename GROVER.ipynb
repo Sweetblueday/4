{
 "cells": [
  {
   "cell_type": "code",
   "execution_count": 1,
   "metadata": {},
   "outputs": [],
   "source": [
    "from __future__ import print_function\n",
    "\n",
    "import torch \n",
    "import torch.nn as nn\n",
    "import torchvision\n",
    "import torchvision.transforms as transforms\n",
    "from torch.utils.data import Dataset, DataLoader\n",
    "\n",
    "import numpy as np\n",
    "import pandas as pd\n",
    "import re\n",
    "import operator\n",
    "\n",
    "import os\n",
    "\n",
    "Idx = str(1)\n",
    "os.environ[\"CUDA_DEVICE_ORDER\"]=\"PCI_BUS_ID\"\n",
    "os.environ[\"CUDA_VISIBLE_DEVICES\"]=Idx\n",
    "\n",
    "from tqdm import tqdm_notebook\n",
    "import utils\n",
    "# Device configuration\n",
    "device = torch.device('cuda:0' if torch.cuda.is_available() else 'cpu')"
   ]
  },
  {
   "cell_type": "code",
   "execution_count": 2,
   "metadata": {},
   "outputs": [],
   "source": [
    "import utils\n",
    "\n",
    "# DBpedia, YahooAnswersUpper, YahooAnswersLower, YelpReviews, IMDB, IMDBv2, AGNews, YahooAnswerv2\n",
    "x_train, y_train, x_valid, y_valid, x_test, y_test, TopicList, Idx2Topic = utils.LoadDatasets(\"IMDB\")\n",
    "Idx2Topic_list = []\n",
    "for i in range(len(set(TopicList))): Idx2Topic_list.append(Idx2Topic[i])\n",
    "Idx2Topic_list = np.array(Idx2Topic_list)\n",
    "\n",
    "if not len(x_valid):\n",
    "    from sklearn.model_selection import train_test_split\n",
    "    x_train, x_valid, y_train, y_valid = train_test_split(x_train, y_train, test_size=0.15, random_state=42)"
   ]
  },
  {
   "cell_type": "code",
   "execution_count": 3,
   "metadata": {},
   "outputs": [
    {
     "data": {
      "application/vnd.jupyter.widget-view+json": {
       "model_id": "f09a01bf8aec4bc5b6142a0af4716702",
       "version_major": 2,
       "version_minor": 0
      },
      "text/plain": [
       "HBox(children=(IntProgress(value=0, max=21250), HTML(value='')))"
      ]
     },
     "metadata": {},
     "output_type": "display_data"
    },
    {
     "name": "stdout",
     "output_type": "stream",
     "text": [
      "\n"
     ]
    },
    {
     "data": {
      "application/vnd.jupyter.widget-view+json": {
       "model_id": "5096b56adef54018ab36cb246eaf8f7c",
       "version_major": 2,
       "version_minor": 0
      },
      "text/plain": [
       "HBox(children=(IntProgress(value=0, max=3750), HTML(value='')))"
      ]
     },
     "metadata": {},
     "output_type": "display_data"
    },
    {
     "name": "stdout",
     "output_type": "stream",
     "text": [
      "\n"
     ]
    },
    {
     "data": {
      "application/vnd.jupyter.widget-view+json": {
       "model_id": "1053faa4e17547fc9e458e7aabd49e18",
       "version_major": 2,
       "version_minor": 0
      },
      "text/plain": [
       "HBox(children=(IntProgress(value=0, max=25000), HTML(value='')))"
      ]
     },
     "metadata": {},
     "output_type": "display_data"
    },
    {
     "name": "stdout",
     "output_type": "stream",
     "text": [
      "\n"
     ]
    },
    {
     "data": {
      "application/vnd.jupyter.widget-view+json": {
       "model_id": "e2d4222146f948a3b98182aae3f57a21",
       "version_major": 2,
       "version_minor": 0
      },
      "text/plain": [
       "HBox(children=(IntProgress(value=0, max=21250), HTML(value='')))"
      ]
     },
     "metadata": {},
     "output_type": "display_data"
    },
    {
     "name": "stdout",
     "output_type": "stream",
     "text": [
      "\n"
     ]
    },
    {
     "data": {
      "application/vnd.jupyter.widget-view+json": {
       "model_id": "e0f258f0711f405c9caaf52716ceffd4",
       "version_major": 2,
       "version_minor": 0
      },
      "text/plain": [
       "HBox(children=(IntProgress(value=0, max=3750), HTML(value='')))"
      ]
     },
     "metadata": {},
     "output_type": "display_data"
    },
    {
     "name": "stdout",
     "output_type": "stream",
     "text": [
      "\n"
     ]
    },
    {
     "data": {
      "application/vnd.jupyter.widget-view+json": {
       "model_id": "e57590b0426f495ab7ea265199becbb4",
       "version_major": 2,
       "version_minor": 0
      },
      "text/plain": [
       "HBox(children=(IntProgress(value=0, max=25000), HTML(value='')))"
      ]
     },
     "metadata": {},
     "output_type": "display_data"
    },
    {
     "name": "stdout",
     "output_type": "stream",
     "text": [
      "\n"
     ]
    }
   ],
   "source": [
    "WordDict = {\"<NONE>\":0, \"<OOV>\":1}\n",
    "WordCnt = {\"<NONE>\":0, \"<OOV>\":0}\n",
    "\n",
    "data_train, WordDict, WordCnt, MaxSeqLen = utils.DataProcessing(x_train, WordDict, WordCnt, TrainFlag=True)\n",
    "data_valid, _, _, _ = utils.DataProcessing(x_valid, WordDict, WordCnt, TrainFlag=False)\n",
    "data_test, _, _, _ = utils.DataProcessing(x_test, WordDict, WordCnt, TrainFlag=False)\n",
    "\n",
    "WordCnt = sorted(WordCnt.items(), key=operator.itemgetter(1))\n",
    "WordIdx = dict(zip(WordDict.values(), WordDict.keys()))\n",
    "x_train_emb = utils.EmbeddingNumpy(data_train, WordDict, MaxSeqLen)\n",
    "x_valid_emb = utils.EmbeddingNumpy(data_valid, WordDict, MaxSeqLen)\n",
    "x_test_emb = utils.EmbeddingNumpy(data_test, WordDict, MaxSeqLen)\n",
    "y_train = np.asarray(y_train)\n",
    "y_valid = np.asarray(y_valid)\n",
    "y_test = np.asarray(y_test)\n",
    "\n",
    "NumClass = max(len(set(y_train)), max(y_train)+1)"
   ]
  },
  {
   "cell_type": "code",
   "execution_count": 6,
   "metadata": {},
   "outputs": [
    {
     "name": "stdout",
     "output_type": "stream",
     "text": [
      "0 / 77319\n"
     ]
    }
   ],
   "source": [
    "import dataloader\n",
    "import copy\n",
    "import random\n",
    "\n",
    "### Hyperparameters\n",
    "Hyperparams = {\n",
    "    \"NumClfEpoch\" : 100,\n",
    "    \"EmbeddingSize\" : 300, # 300, 768\n",
    "    \"KernelSize\" : [2,3,4,5],\n",
    "    \"BatchSize\" : 2**8,\n",
    "    \"LearningRate\" : 1e-3,\n",
    "    \"ChannelSize\" : [32, 16],\n",
    "    \"UsePreWordVector\" : False,\n",
    "#     \"UsePreWordVector\" : \"../../Data/PretrainedWV/glove.42B.300d.txt\",\n",
    "#     \"UsePreWordVector\" : \"../../Data/PretrainedWV/GoogleNews-vectors-negative300.txt\",\n",
    "#     \"UsePreWordVector\" : \"../../Data/PretrainedWV/wiki-news-300d-1M-subword.vec\",\n",
    "#     \"UsePreWordVector\" : \"../../Data/PretrainedWV/GloVeSelfExtro5_Dim50.txt\",\n",
    "    \"WordVectorNorm\" : False,\n",
    "    \"MaxSeqLen\" : MaxSeqLen,\n",
    "    \"NumClass\" : NumClass,\n",
    "    \"MaskOutRate\" : .2,\n",
    "    \"DropoutRate\" : .0,\n",
    "    \"Normaliz\" : \"None\", # Batch / Layer / None\n",
    "}\n",
    "\n",
    "###\n",
    "MaskerNum = int(len(WordDict)*Hyperparams[\"MaskOutRate\"])\n",
    "UNKWords = []\n",
    "\n",
    "print(len(UNKWords), '/', len(WordDict))\n",
    "WordIdx = dict(zip(WordDict.values(), WordDict.keys()))\n",
    "\n",
    "train_dataset = dataloader.ClassifyDataset(x=x_train_emb, y=y_train)\n",
    "valid_dataset = dataloader.ClassifyDataset(x=x_valid_emb, y=y_valid)\n",
    "test_dataset = dataloader.ClassifyDataset(x=x_test_emb, y=y_test)\n",
    "train_loader = DataLoader(dataset=train_dataset, batch_size=Hyperparams[\"BatchSize\"], shuffle=True, num_workers=0)\n",
    "valid_loader = DataLoader(dataset=valid_dataset, batch_size=Hyperparams[\"BatchSize\"], shuffle=True, num_workers=0)\n",
    "test_loader = DataLoader(dataset=test_dataset, batch_size=Hyperparams[\"BatchSize\"], shuffle=True, num_workers=0)"
   ]
  },
  {
   "cell_type": "code",
   "execution_count": null,
   "metadata": {},
   "outputs": [
    {
     "data": {
      "application/vnd.jupyter.widget-view+json": {
       "model_id": "26eac24a138443c2aa691c73a78e8661",
       "version_major": 2,
       "version_minor": 0
      },
      "text/plain": [
       "HBox(children=(IntProgress(value=0, description='Epoch', style=ProgressStyle(description_width='initial')), HT…"
      ]
     },
     "metadata": {},
     "output_type": "display_data"
    },
    {
     "name": "stdout",
     "output_type": "stream",
     "text": [
      "Epoch [1/100], Loss: 0.3051 ValidAcc: 77.3867 % , MaxAcc: 0.7739\n",
      "Epoch [2/100], Loss: 0.6426 ValidAcc: 83.4933 % , MaxAcc: 0.8349\n",
      "Epoch [3/100], Loss: 0.3220 ValidAcc: 79.1467 % , MaxAcc: 0.8349\n",
      "Epoch [4/100], Loss: 0.5044 ValidAcc: 84.4000 % , MaxAcc: 0.8440\n",
      "Epoch [5/100], Loss: 0.0757 ValidAcc: 86.1867 % , MaxAcc: 0.8619\n",
      "Epoch [6/100], Loss: 0.0328 ValidAcc: 86.7467 % , MaxAcc: 0.8675\n",
      "Epoch [7/100], Loss: 0.0003 ValidAcc: 87.2000 % , MaxAcc: 0.8720\n",
      "Epoch [8/100], Loss: 0.0093 ValidAcc: 87.3600 % , MaxAcc: 0.8736\n",
      "Epoch [9/100], Loss: 0.0019 ValidAcc: 87.2000 % , MaxAcc: 0.8736\n",
      "Epoch [10/100], Loss: 0.0157 ValidAcc: 87.3067 % , MaxAcc: 0.8736\n",
      "Epoch [11/100], Loss: 0.0118 ValidAcc: 87.1733 % , MaxAcc: 0.8736\n",
      "Epoch [12/100], Loss: 0.0007 ValidAcc: 87.4133 % , MaxAcc: 0.8741\n",
      "Epoch [13/100], Loss: 0.0000 ValidAcc: 87.3600 % , MaxAcc: 0.8741\n",
      "TestAcc: 86.7560 % , ValidAcc: 0.8741\n",
      "++++++++++Step Forward 86.76\n"
     ]
    },
    {
     "data": {
      "application/vnd.jupyter.widget-view+json": {
       "model_id": "47eb7c33d999406590ee6d3217d0356b",
       "version_major": 2,
       "version_minor": 0
      },
      "text/plain": [
       "HBox(children=(IntProgress(value=0, description='Epoch', style=ProgressStyle(description_width='initial')), HT…"
      ]
     },
     "metadata": {},
     "output_type": "display_data"
    },
    {
     "name": "stdout",
     "output_type": "stream",
     "text": [
      "Epoch [1/100], Loss: 0.3246 ValidAcc: 86.3467 % , MaxAcc: 0.8635\n",
      "Epoch [2/100], Loss: 0.0051 ValidAcc: 88.8000 % , MaxAcc: 0.8880\n",
      "Epoch [3/100], Loss: 0.2439 ValidAcc: 86.9333 % , MaxAcc: 0.8880\n",
      "Epoch [4/100], Loss: 0.0023 ValidAcc: 89.3600 % , MaxAcc: 0.8936\n",
      "Epoch [5/100], Loss: 0.0879 ValidAcc: 89.7067 % , MaxAcc: 0.8971\n",
      "Epoch [6/100], Loss: 0.0002 ValidAcc: 89.7867 % , MaxAcc: 0.8979\n",
      "Epoch [7/100], Loss: 0.0205 ValidAcc: 89.5733 % , MaxAcc: 0.8979\n",
      "Epoch [8/100], Loss: 0.0009 ValidAcc: 89.7067 % , MaxAcc: 0.8979\n",
      "Epoch [9/100], Loss: 0.0207 ValidAcc: 89.6000 % , MaxAcc: 0.8979\n",
      "Epoch [10/100], Loss: 0.0001 ValidAcc: 89.7067 % , MaxAcc: 0.8979\n",
      "TestAcc: 88.7920 % , ValidAcc: 0.8979\n",
      "++++++++++Step Forward 88.79\n"
     ]
    },
    {
     "data": {
      "application/vnd.jupyter.widget-view+json": {
       "model_id": "8666d37f23cb4ad59f836d83affde619",
       "version_major": 2,
       "version_minor": 0
      },
      "text/plain": [
       "HBox(children=(IntProgress(value=0, description='Epoch', style=ProgressStyle(description_width='initial')), HT…"
      ]
     },
     "metadata": {},
     "output_type": "display_data"
    },
    {
     "name": "stdout",
     "output_type": "stream",
     "text": [
      "Epoch [1/100], Loss: 0.0044 ValidAcc: 87.2533 % , MaxAcc: 0.8725\n",
      "Epoch [2/100], Loss: 0.0139 ValidAcc: 88.9600 % , MaxAcc: 0.8896\n",
      "Epoch [3/100], Loss: 0.0119 ValidAcc: 89.3067 % , MaxAcc: 0.8931\n",
      "Epoch [4/100], Loss: 0.0006 ValidAcc: 88.6133 % , MaxAcc: 0.8931\n",
      "Epoch [5/100], Loss: 0.0003 ValidAcc: 88.8533 % , MaxAcc: 0.8931\n",
      "Epoch [6/100], Loss: 0.0002 ValidAcc: 88.9067 % , MaxAcc: 0.8931\n",
      "Epoch [7/100], Loss: 0.0000 ValidAcc: 88.9600 % , MaxAcc: 0.8931\n",
      "Epoch [8/100], Loss: 0.0003 ValidAcc: 89.0933 % , MaxAcc: 0.8931\n",
      "TestAcc: 88.6160 % , ValidAcc: 0.8931\n",
      "----------Step Backward\n"
     ]
    },
    {
     "data": {
      "application/vnd.jupyter.widget-view+json": {
       "model_id": "d15e898fd93d42cd819a90a707321514",
       "version_major": 2,
       "version_minor": 0
      },
      "text/plain": [
       "HBox(children=(IntProgress(value=0, description='Epoch', style=ProgressStyle(description_width='initial')), HT…"
      ]
     },
     "metadata": {},
     "output_type": "display_data"
    },
    {
     "name": "stdout",
     "output_type": "stream",
     "text": [
      "Epoch [1/100], Loss: 0.0145 ValidAcc: 87.4667 % , MaxAcc: 0.8747\n",
      "Epoch [2/100], Loss: 0.0097 ValidAcc: 87.5200 % , MaxAcc: 0.8752\n",
      "Epoch [3/100], Loss: 0.2647 ValidAcc: 87.9200 % , MaxAcc: 0.8792\n",
      "Epoch [4/100], Loss: 0.0047 ValidAcc: 88.5333 % , MaxAcc: 0.8853\n",
      "Epoch [5/100], Loss: 0.0589 ValidAcc: 89.2267 % , MaxAcc: 0.8923\n",
      "Epoch [6/100], Loss: 0.0294 ValidAcc: 89.3333 % , MaxAcc: 0.8933\n",
      "Epoch [7/100], Loss: 0.0132 ValidAcc: 89.3333 % , MaxAcc: 0.8933\n",
      "Epoch [8/100], Loss: 0.0000 ValidAcc: 89.3333 % , MaxAcc: 0.8933\n",
      "Epoch [9/100], Loss: 0.0000 ValidAcc: 89.2800 % , MaxAcc: 0.8933\n",
      "Epoch [10/100], Loss: 0.0025 ValidAcc: 89.2533 % , MaxAcc: 0.8933\n",
      "Epoch [11/100], Loss: 0.0001 ValidAcc: 89.2267 % , MaxAcc: 0.8933\n",
      "Epoch [12/100], Loss: 0.0002 ValidAcc: 89.3333 % , MaxAcc: 0.8933\n",
      "Epoch [13/100], Loss: 0.0011 ValidAcc: 89.2533 % , MaxAcc: 0.8933\n",
      "Epoch [14/100], Loss: 0.0007 ValidAcc: 89.0667 % , MaxAcc: 0.8933\n",
      "TestAcc: 88.7280 % , ValidAcc: 0.8933\n",
      "----------Step Backward\n"
     ]
    },
    {
     "data": {
      "application/vnd.jupyter.widget-view+json": {
       "model_id": "c7d55ae3e1a448168875aebdbe460a80",
       "version_major": 2,
       "version_minor": 0
      },
      "text/plain": [
       "HBox(children=(IntProgress(value=0, description='Epoch', style=ProgressStyle(description_width='initial')), HT…"
      ]
     },
     "metadata": {},
     "output_type": "display_data"
    },
    {
     "name": "stdout",
     "output_type": "stream",
     "text": [
      "Epoch [1/100], Loss: 0.1311 ValidAcc: 87.8133 % , MaxAcc: 0.8781\n",
      "Epoch [2/100], Loss: 0.0029 ValidAcc: 88.0800 % , MaxAcc: 0.8808\n",
      "Epoch [3/100], Loss: 0.0450 ValidAcc: 88.5600 % , MaxAcc: 0.8856\n",
      "Epoch [4/100], Loss: 0.0001 ValidAcc: 89.7067 % , MaxAcc: 0.8971\n",
      "Epoch [5/100], Loss: 0.0119 ValidAcc: 89.5733 % , MaxAcc: 0.8971\n",
      "Epoch [6/100], Loss: 0.0044 ValidAcc: 89.6000 % , MaxAcc: 0.8971\n",
      "Epoch [7/100], Loss: 0.0068 ValidAcc: 89.8667 % , MaxAcc: 0.8987\n",
      "Epoch [8/100], Loss: 0.0000 ValidAcc: 89.7600 % , MaxAcc: 0.8987\n",
      "Epoch [9/100], Loss: 0.0027 ValidAcc: 89.5733 % , MaxAcc: 0.8987\n",
      "Epoch [10/100], Loss: 0.0001 ValidAcc: 89.7067 % , MaxAcc: 0.8987\n",
      "TestAcc: 88.9120 % , ValidAcc: 0.8987\n",
      "++++++++++Step Forward 88.91\n"
     ]
    },
    {
     "data": {
      "application/vnd.jupyter.widget-view+json": {
       "model_id": "cc710a5366e84210a47ae8556fbbe76d",
       "version_major": 2,
       "version_minor": 0
      },
      "text/plain": [
       "HBox(children=(IntProgress(value=0, description='Epoch', style=ProgressStyle(description_width='initial')), HT…"
      ]
     },
     "metadata": {},
     "output_type": "display_data"
    },
    {
     "name": "stdout",
     "output_type": "stream",
     "text": [
      "Epoch [1/100], Loss: 0.4226 ValidAcc: 86.9867 % , MaxAcc: 0.8699\n",
      "Epoch [2/100], Loss: 0.0021 ValidAcc: 88.9600 % , MaxAcc: 0.8896\n",
      "Epoch [3/100], Loss: 0.0598 ValidAcc: 89.1733 % , MaxAcc: 0.8917\n",
      "Epoch [4/100], Loss: 0.0000 ValidAcc: 89.5467 % , MaxAcc: 0.8955\n",
      "Epoch [5/100], Loss: 0.0001 ValidAcc: 89.6000 % , MaxAcc: 0.8960\n",
      "Epoch [6/100], Loss: 0.0010 ValidAcc: 89.5200 % , MaxAcc: 0.8960\n",
      "Epoch [7/100], Loss: 0.0005 ValidAcc: 89.4667 % , MaxAcc: 0.8960\n",
      "Epoch [8/100], Loss: 0.0007 ValidAcc: 89.3600 % , MaxAcc: 0.8960\n",
      "Epoch [9/100], Loss: 0.0016 ValidAcc: 89.4133 % , MaxAcc: 0.8960\n",
      "Epoch [10/100], Loss: 0.0001 ValidAcc: 89.3600 % , MaxAcc: 0.8960\n",
      "TestAcc: 87.6280 % , ValidAcc: 0.8960\n",
      "----------Step Backward\n",
      "1 :::::::::: 86.76 -> 88.91\n"
     ]
    },
    {
     "data": {
      "application/vnd.jupyter.widget-view+json": {
       "model_id": "d1089dc54dd74f14bc096583cb44a4f3",
       "version_major": 2,
       "version_minor": 0
      },
      "text/plain": [
       "HBox(children=(IntProgress(value=0, description='Epoch', style=ProgressStyle(description_width='initial')), HT…"
      ]
     },
     "metadata": {},
     "output_type": "display_data"
    },
    {
     "name": "stdout",
     "output_type": "stream",
     "text": [
      "Epoch [1/100], Loss: 0.4645 ValidAcc: 75.7867 % , MaxAcc: 0.7579\n",
      "Epoch [2/100], Loss: 0.3271 ValidAcc: 81.7067 % , MaxAcc: 0.8171\n",
      "Epoch [3/100], Loss: 0.0268 ValidAcc: 81.0667 % , MaxAcc: 0.8171\n",
      "Epoch [4/100], Loss: 0.0349 ValidAcc: 84.3200 % , MaxAcc: 0.8432\n",
      "Epoch [5/100], Loss: 0.0419 ValidAcc: 85.0400 % , MaxAcc: 0.8504\n",
      "Epoch [6/100], Loss: 0.0055 ValidAcc: 85.1733 % , MaxAcc: 0.8517\n",
      "Epoch [7/100], Loss: 0.1956 ValidAcc: 84.1600 % , MaxAcc: 0.8517\n",
      "Epoch [8/100], Loss: 0.0128 ValidAcc: 85.6800 % , MaxAcc: 0.8568\n",
      "Epoch [9/100], Loss: 0.0017 ValidAcc: 86.2133 % , MaxAcc: 0.8621\n",
      "Epoch [10/100], Loss: 0.0014 ValidAcc: 86.0800 % , MaxAcc: 0.8621\n",
      "Epoch [11/100], Loss: 0.0006 ValidAcc: 86.2400 % , MaxAcc: 0.8624\n",
      "Epoch [12/100], Loss: 0.0100 ValidAcc: 86.1600 % , MaxAcc: 0.8624\n",
      "Epoch [13/100], Loss: 0.0050 ValidAcc: 86.2667 % , MaxAcc: 0.8627\n",
      "Epoch [14/100], Loss: 0.0015 ValidAcc: 86.2133 % , MaxAcc: 0.8627\n",
      "TestAcc: 85.2920 % , ValidAcc: 0.8627\n",
      "++++++++++Step Forward 85.29\n"
     ]
    },
    {
     "data": {
      "application/vnd.jupyter.widget-view+json": {
       "model_id": "c9e58f56b2fe498190c7fc6aba539724",
       "version_major": 2,
       "version_minor": 0
      },
      "text/plain": [
       "HBox(children=(IntProgress(value=0, description='Epoch', style=ProgressStyle(description_width='initial')), HT…"
      ]
     },
     "metadata": {},
     "output_type": "display_data"
    },
    {
     "name": "stdout",
     "output_type": "stream",
     "text": [
      "Epoch [1/100], Loss: 0.0862 ValidAcc: 87.2267 % , MaxAcc: 0.8723\n",
      "Epoch [2/100], Loss: 0.2367 ValidAcc: 84.8800 % , MaxAcc: 0.8723\n",
      "Epoch [3/100], Loss: 0.0381 ValidAcc: 88.6667 % , MaxAcc: 0.8867\n",
      "Epoch [4/100], Loss: 0.0113 ValidAcc: 88.8267 % , MaxAcc: 0.8883\n",
      "Epoch [5/100], Loss: 0.0001 ValidAcc: 89.6000 % , MaxAcc: 0.8960\n",
      "Epoch [6/100], Loss: 0.0274 ValidAcc: 89.6000 % , MaxAcc: 0.8960\n",
      "Epoch [7/100], Loss: 0.0005 ValidAcc: 89.5733 % , MaxAcc: 0.8960\n",
      "Epoch [8/100], Loss: 0.0061 ValidAcc: 89.5733 % , MaxAcc: 0.8960\n",
      "Epoch [9/100], Loss: 0.0002 ValidAcc: 89.6533 % , MaxAcc: 0.8965\n",
      "Epoch [10/100], Loss: 0.0001 ValidAcc: 89.6800 % , MaxAcc: 0.8968\n",
      "Epoch [11/100], Loss: 0.0000 ValidAcc: 89.5733 % , MaxAcc: 0.8968\n",
      "Epoch [12/100], Loss: 0.0000 ValidAcc: 89.5467 % , MaxAcc: 0.8968\n",
      "TestAcc: 88.7840 % , ValidAcc: 0.8968\n",
      "++++++++++Step Forward 88.78\n"
     ]
    },
    {
     "data": {
      "application/vnd.jupyter.widget-view+json": {
       "model_id": "084156c774a744778af7ba92b3ce2682",
       "version_major": 2,
       "version_minor": 0
      },
      "text/plain": [
       "HBox(children=(IntProgress(value=0, description='Epoch', style=ProgressStyle(description_width='initial')), HT…"
      ]
     },
     "metadata": {},
     "output_type": "display_data"
    },
    {
     "name": "stdout",
     "output_type": "stream",
     "text": [
      "Epoch [1/100], Loss: 0.2077 ValidAcc: 86.3467 % , MaxAcc: 0.8635\n",
      "Epoch [2/100], Loss: 0.0349 ValidAcc: 88.2400 % , MaxAcc: 0.8824\n",
      "Epoch [3/100], Loss: 0.0020 ValidAcc: 88.6400 % , MaxAcc: 0.8864\n",
      "Epoch [4/100], Loss: 0.0035 ValidAcc: 88.9333 % , MaxAcc: 0.8893\n",
      "Epoch [5/100], Loss: 0.0129 ValidAcc: 89.0400 % , MaxAcc: 0.8904\n",
      "Epoch [6/100], Loss: 0.0015 ValidAcc: 88.8000 % , MaxAcc: 0.8904\n",
      "Epoch [7/100], Loss: 0.0008 ValidAcc: 88.9067 % , MaxAcc: 0.8904\n",
      "Epoch [8/100], Loss: 0.0001 ValidAcc: 88.8000 % , MaxAcc: 0.8904\n",
      "Epoch [9/100], Loss: 0.0000 ValidAcc: 89.0400 % , MaxAcc: 0.8904\n",
      "Epoch [10/100], Loss: 0.0000 ValidAcc: 88.8533 % , MaxAcc: 0.8904\n",
      "Epoch [11/100], Loss: 0.0002 ValidAcc: 89.0667 % , MaxAcc: 0.8907\n",
      "Epoch [12/100], Loss: 0.0000 ValidAcc: 88.9600 % , MaxAcc: 0.8907\n",
      "TestAcc: 88.3440 % , ValidAcc: 0.8907\n",
      "----------Step Backward\n"
     ]
    },
    {
     "data": {
      "application/vnd.jupyter.widget-view+json": {
       "model_id": "682af5b3bc5449e4b9d35ae8d20d4ca1",
       "version_major": 2,
       "version_minor": 0
      },
      "text/plain": [
       "HBox(children=(IntProgress(value=0, description='Epoch', style=ProgressStyle(description_width='initial')), HT…"
      ]
     },
     "metadata": {},
     "output_type": "display_data"
    },
    {
     "name": "stdout",
     "output_type": "stream",
     "text": [
      "Epoch [1/100], Loss: 1.6582 ValidAcc: 87.7067 % , MaxAcc: 0.8771\n",
      "Epoch [2/100], Loss: 0.0185 ValidAcc: 89.2533 % , MaxAcc: 0.8925\n",
      "Epoch [3/100], Loss: 0.0030 ValidAcc: 89.8400 % , MaxAcc: 0.8984\n",
      "Epoch [4/100], Loss: 0.0783 ValidAcc: 88.8267 % , MaxAcc: 0.8984\n",
      "Epoch [5/100], Loss: 0.0003 ValidAcc: 88.9067 % , MaxAcc: 0.8984\n",
      "Epoch [6/100], Loss: 0.0001 ValidAcc: 89.7067 % , MaxAcc: 0.8984\n",
      "Epoch [7/100], Loss: 0.0018 ValidAcc: 89.7867 % , MaxAcc: 0.8984\n",
      "Epoch [8/100], Loss: 0.0007 ValidAcc: 89.7867 % , MaxAcc: 0.8984\n",
      "TestAcc: 88.4680 % , ValidAcc: 0.8984\n",
      "++++++++++Step Forward 88.47\n"
     ]
    },
    {
     "data": {
      "application/vnd.jupyter.widget-view+json": {
       "model_id": "cdc6a13e94a243cbafb1be84a35d7e6b",
       "version_major": 2,
       "version_minor": 0
      },
      "text/plain": [
       "HBox(children=(IntProgress(value=0, description='Epoch', style=ProgressStyle(description_width='initial')), HT…"
      ]
     },
     "metadata": {},
     "output_type": "display_data"
    },
    {
     "name": "stdout",
     "output_type": "stream",
     "text": [
      "Epoch [1/100], Loss: 0.7552 ValidAcc: 87.3067 % , MaxAcc: 0.8731\n",
      "Epoch [2/100], Loss: 0.2185 ValidAcc: 89.1467 % , MaxAcc: 0.8915\n",
      "Epoch [3/100], Loss: 0.0006 ValidAcc: 89.2533 % , MaxAcc: 0.8925\n",
      "Epoch [4/100], Loss: 0.0083 ValidAcc: 89.4133 % , MaxAcc: 0.8941\n",
      "Epoch [5/100], Loss: 0.0010 ValidAcc: 89.4667 % , MaxAcc: 0.8947\n",
      "Epoch [6/100], Loss: 0.0069 ValidAcc: 89.6000 % , MaxAcc: 0.8960\n",
      "Epoch [7/100], Loss: 0.0071 ValidAcc: 89.6267 % , MaxAcc: 0.8963\n",
      "Epoch [8/100], Loss: 0.0141 ValidAcc: 89.8667 % , MaxAcc: 0.8987\n",
      "Epoch [9/100], Loss: 0.0006 ValidAcc: 89.5733 % , MaxAcc: 0.8987\n",
      "Epoch [10/100], Loss: 0.0000 ValidAcc: 89.5467 % , MaxAcc: 0.8987\n",
      "Epoch [11/100], Loss: 0.0027 ValidAcc: 89.5467 % , MaxAcc: 0.8987\n",
      "Epoch [12/100], Loss: 0.0012 ValidAcc: 89.6000 % , MaxAcc: 0.8987\n",
      "Epoch [13/100], Loss: 0.0017 ValidAcc: 89.7067 % , MaxAcc: 0.8987\n",
      "TestAcc: 88.6040 % , ValidAcc: 0.8987\n",
      "++++++++++Step Forward 88.6\n"
     ]
    },
    {
     "data": {
      "application/vnd.jupyter.widget-view+json": {
       "model_id": "fea67fdfcc2d4cc1acd54e176008cf8e",
       "version_major": 2,
       "version_minor": 0
      },
      "text/plain": [
       "HBox(children=(IntProgress(value=0, description='Epoch', style=ProgressStyle(description_width='initial')), HT…"
      ]
     },
     "metadata": {},
     "output_type": "display_data"
    },
    {
     "name": "stdout",
     "output_type": "stream",
     "text": [
      "Epoch [1/100], Loss: 0.3220 ValidAcc: 85.7333 % , MaxAcc: 0.8573\n",
      "Epoch [2/100], Loss: 0.0044 ValidAcc: 87.9733 % , MaxAcc: 0.8797\n",
      "Epoch [3/100], Loss: 0.0450 ValidAcc: 88.2933 % , MaxAcc: 0.8829\n",
      "Epoch [4/100], Loss: 0.0000 ValidAcc: 87.8933 % , MaxAcc: 0.8829\n",
      "Epoch [5/100], Loss: 0.0000 ValidAcc: 87.8933 % , MaxAcc: 0.8829\n",
      "Epoch [6/100], Loss: 0.0005 ValidAcc: 87.8133 % , MaxAcc: 0.8829\n",
      "Epoch [7/100], Loss: 0.0019 ValidAcc: 87.7867 % , MaxAcc: 0.8829\n",
      "Epoch [8/100], Loss: 0.0000 ValidAcc: 87.9200 % , MaxAcc: 0.8829\n",
      "TestAcc: 87.1080 % , ValidAcc: 0.8829\n",
      "----------Step Backward\n",
      "2 :::::::::: 85.29 -> 88.6\n"
     ]
    },
    {
     "data": {
      "application/vnd.jupyter.widget-view+json": {
       "model_id": "4139c6dc35f04c4487d5b358fac16d0b",
       "version_major": 2,
       "version_minor": 0
      },
      "text/plain": [
       "HBox(children=(IntProgress(value=0, description='Epoch', style=ProgressStyle(description_width='initial')), HT…"
      ]
     },
     "metadata": {},
     "output_type": "display_data"
    }
   ],
   "source": [
    "import TextCNN\n",
    "from imp import reload\n",
    "reload(TextCNN)\n",
    "\n",
    "from sklearn import decomposition\n",
    "from sklearn.decomposition import PCA\n",
    "\n",
    "for Iter in range(3):\n",
    "    model = TextCNN.ConvNet(WordDict, Hyperparams)\n",
    "    model = model.to(device)\n",
    "    criterion = nn.CrossEntropyLoss()\n",
    "    \n",
    "    Range = 1.\n",
    "    UNKWords = []\n",
    "\n",
    "    # Train the model\n",
    "    maxacc_all = 0; Step = 0\n",
    "    MetaEpochs = int(1./Hyperparams[\"MaskOutRate\"])\n",
    "    StopFlag = False\n",
    "    \n",
    "    for meep in range(MetaEpochs+1):\n",
    "        emb_init = copy.deepcopy(model.embedding.weight)\n",
    "        optimizer = torch.optim.Adam(filter(lambda p: p.requires_grad, model.parameters()),\n",
    "                                         lr=Hyperparams[\"LearningRate\"])\n",
    "        maxacc_val = 0\n",
    "        EarlyStopCnt = 5\n",
    "        total_step = len(train_loader)\n",
    "        pbar1 = tqdm_notebook(total = Hyperparams[\"NumClfEpoch\"], leave=False, desc=\"Epoch\")\n",
    "        model.train() # train mode\n",
    "\n",
    "        for epoch in range(Hyperparams[\"NumClfEpoch\"]):\n",
    "            \n",
    "            pbar1.update(1)\n",
    "#             pbar2 = tqdm_notebook(total = len(train_loader)*Hyperparams[\"BatchSize\"], leave=False, desc=\"Training\")\n",
    "            for i, (texts, labels) in enumerate(train_loader):\n",
    "#                 pbar2.update(Hyperparams[\"BatchSize\"])\n",
    "                texts = texts.to(device)\n",
    "                labels = labels.to(device)\n",
    "                # Forward pass\n",
    "                outputs = model(texts)\n",
    "                loss = criterion(outputs, labels)\n",
    "                optimizer.zero_grad()\n",
    "                loss.backward()\n",
    "                optimizer.step()\n",
    "#             pbar2.close()\n",
    "\n",
    "            print ('Epoch [{}/{}], Loss: {:.4f}'.format(epoch+1, Hyperparams[\"NumClfEpoch\"], loss.item()), end=' ')\n",
    "\n",
    "            # Valid the model\n",
    "            model.eval()  # eval mode (batchnorm uses moving mean/variance instead of mini-batch mean/variance)\n",
    "            with torch.no_grad():\n",
    "                correct = 0.\n",
    "                total = 0\n",
    "                for texts, labels in valid_loader:\n",
    "                    texts = texts.to(device)\n",
    "                    labels = labels.to(device)\n",
    "                    outputs = model(texts)\n",
    "                    predicted = []\n",
    "                    _, predicted = torch.max(outputs.data, 1)\n",
    "                    total += labels.size(0)\n",
    "                    correct += (predicted == labels).sum().item()\n",
    "\n",
    "                if (correct/total) >= maxacc_val:\n",
    "                    maxacc_val = correct/total\n",
    "                    torch.save(model.state_dict(), \"./save/model\"+ Idx)\n",
    "                    torch.save(model.embedding.weight, \"./save/embedding\"+ Idx)\n",
    "\n",
    "                print('ValidAcc: {:.4f} % , MaxAcc: {:.4f}'.format(100 * correct/total, maxacc_val))\n",
    "                if (correct/total) < maxacc_val:\n",
    "                    EarlyStopCnt = EarlyStopCnt-1\n",
    "                    if EarlyStopCnt == 0:\n",
    "                        break\n",
    "\n",
    "        ### Test Acc.\n",
    "#         model = TextCNN.ConvNet(WordDict, Hyperparams).to(device)\n",
    "        model.load_state_dict(torch.load(\"./save/model\"+ Idx))\n",
    "\n",
    "        with torch.no_grad():\n",
    "            model.eval()\n",
    "            correct = 0.\n",
    "            total = 0\n",
    "            for texts, labels in test_loader:\n",
    "                texts = texts.to(device)\n",
    "                labels = labels.to(device)\n",
    "                outputs = model(texts)\n",
    "                predicted = []\n",
    "                _, predicted = torch.max(outputs.data, 1)\n",
    "                total += labels.size(0)\n",
    "                correct += (predicted == labels).sum().item()\n",
    "\n",
    "            print('TestAcc: {:.4f} % , ValidAcc: {:.4f}'.format(100 * correct / total, maxacc_val))\n",
    "\n",
    "        pbar1.close()\n",
    "        \n",
    "        if StopFlag:\n",
    "            if maxacc_val >= maxacc_all:\n",
    "                maxacc_all = maxacc_val\n",
    "                BestAcc = np.round(100*correct/total, 2)\n",
    "            break\n",
    "            \n",
    "        if maxacc_val >= maxacc_all:\n",
    "            torch.save(model.state_dict(), \"./save/model_opt\"+ Idx)\n",
    "            torch.save(model.embedding.weight, \"./save/embedding_opt\"+ Idx)\n",
    "\n",
    "        model = TextCNN.ConvNet(WordDict, Hyperparams).to(device)\n",
    "#         model.load_state_dict(torch.load(\"model_opt\" + Idx))\n",
    "        optimizer = torch.optim.Adam(filter(lambda p: p.requires_grad, model.parameters()), lr=Hyperparams[\"LearningRate\"])\n",
    "\n",
    "        emb_opt = torch.load(\"./save/embedding_opt\"+Idx)\n",
    "        emb_cur = torch.load(\"./save/embedding\"+Idx)\n",
    "        \n",
    "        ### Integrating Pretrained WV with Trained Masked WV\n",
    "        if meep == 0: FirstAcc = np.round(100*correct/total, 2)\n",
    "        if maxacc_val >= maxacc_all:\n",
    "            print(\"++++++++++Step Forward\", np.round(correct/total*100, 2))\n",
    "            model.embedding.weight.data = emb_opt + (1/Hyperparams[\"MaskOutRate\"])*(emb_cur - emb_init)\n",
    "            \n",
    "            maxacc_all = maxacc_val\n",
    "            BestAcc = np.round(100*correct/total, 2)\n",
    "            ###\n",
    "            try:\n",
    "                UNKWords = [ WordCnt[i][0] for i in range(int((meep)*MaskerNum), int((meep+1)*MaskerNum)+1) ]\n",
    "#                 UNKWords += [ WordCnt[i][0] for i in range(int((meep)*MaskerNum), int((meep+1)*MaskerNum)+1) ]\n",
    "                UNKWords = list(set(UNKWords))\n",
    "\n",
    "            except IndexError:\n",
    "                UNKWords = [ WordCnt[i][0] for i in range(int((meep)*MaskerNum), len(WordCnt)) ]\n",
    "                UNKWords += [ WordCnt[i][0] for i in range(int((meep)*MaskerNum), len(WordCnt)) ]\n",
    "                StopFlag = True\n",
    "                \n",
    "#             NoiseTensor = torch.randn(emb1.size()).to(device)\n",
    "            NoiseTensor = Range * (2*torch.rand(emb_opt.size()).to(device) - 1)\n",
    "            #####\n",
    "            for nt_idx, unkmask in enumerate(UNKWords):\n",
    "                model.embedding.weight.data[WordDict[unkmask]] += NoiseTensor[nt_idx]\n",
    "                \n",
    "        else:\n",
    "            print(\"----------Step Backward\")\n",
    "            model.embedding.weight.data = emb_opt - (Hyperparams[\"MaskOutRate\"])*(emb_cur - emb_init)\n",
    "            ###\n",
    "            try:\n",
    "#                 UNKWords = [ WordCnt[i][0] for i in range(int((meep)*MaskerNum), int((meep+1)*MaskerNum)) ]\n",
    "                UNKWords += [ WordCnt[i][0] for i in range(int((meep)*MaskerNum), int((meep+1)*MaskerNum)) ]\n",
    "                UNKWords = list(set(UNKWords))\n",
    "\n",
    "            except IndexError:\n",
    "#                 UNKWords = [ WordCnt[i][0] for i in range(int((meep-Overlap)*MaskerNum), len(WordCnt)) ]\n",
    "                UNKWords += [ WordCnt[i][0] for i in range(int((meep)*MaskerNum), len(WordCnt)) ]\n",
    "                StopFlag = True\n",
    "            ###\n",
    "#             NoiseTensor = torch.randn(emb1.size()).to(device)\n",
    "            NoiseTensor = Range * (2*torch.rand(emb_opt.size()).to(device) - 1)\n",
    "            #####\n",
    "            for nt_idx, unkmask in enumerate(UNKWords):\n",
    "                model.embedding.weight.data[WordDict[unkmask]] += NoiseTensor[nt_idx]\n",
    "    print(Iter+1, \"::::::::::\", FirstAcc, '->', BestAcc)"
   ]
  },
  {
   "cell_type": "code",
   "execution_count": null,
   "metadata": {},
   "outputs": [],
   "source": []
  }
 ],
 "metadata": {
  "kernelspec": {
   "display_name": "Python 3",
   "language": "python",
   "name": "python3"
  },
  "language_info": {
   "codemirror_mode": {
    "name": "ipython",
    "version": 3
   },
   "file_extension": ".py",
   "mimetype": "text/x-python",
   "name": "python",
   "nbconvert_exporter": "python",
   "pygments_lexer": "ipython3",
   "version": "3.5.2"
  }
 },
 "nbformat": 4,
 "nbformat_minor": 4
}
